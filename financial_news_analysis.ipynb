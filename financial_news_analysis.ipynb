{
  "nbformat": 4,
  "nbformat_minor": 0,
  "metadata": {
    "colab": {
      "provenance": []
    },
    "kernelspec": {
      "name": "python3",
      "display_name": "Python 3"
    },
    "language_info": {
      "name": "python"
    }
  },
  "cells": [
    {
      "cell_type": "code",
      "execution_count": 1,
      "metadata": {
        "id": "V3Qi_AzvIHa2"
      },
      "outputs": [],
      "source": [
        "import pandas as pd\n",
        "from urllib.request import Request, urlopen\n",
        "from nltk.sentiment.vader import SentimentIntensityAnalyzer\n",
        "import nltk\n",
        "from datetime import datetime"
      ]
    },
    {
      "cell_type": "code",
      "source": [
        "nltk.download('vader_lexicon')\n",
        "num_headlines = 3\n",
        "tickers = ['AAPL', 'TSLA', 'AMZN']\n",
        "analyzer = SentimentIntensityAnalyzer()"
      ],
      "metadata": {
        "colab": {
          "base_uri": "https://localhost:8080/"
        },
        "id": "aKyb483NIN-s",
        "outputId": "1195320a-d91e-414d-fc9c-7db9f5f2fb17"
      },
      "execution_count": 2,
      "outputs": [
        {
          "output_type": "stream",
          "name": "stderr",
          "text": [
            "[nltk_data] Downloading package vader_lexicon to /root/nltk_data...\n"
          ]
        }
      ]
    },
    {
      "cell_type": "code",
      "source": [
        "def fetch_news(ticker):\n",
        "    finviz_url = 'https://finviz.com/quote.ashx?t='\n",
        "    url = finviz_url + ticker\n",
        "    req = Request(url=url, headers={'user-agent': 'Mozilla/5.0'})\n",
        "    response = urlopen(req)\n",
        "    df = pd.read_html(response.read(), attrs={'id': 'news-table'})[0]\n",
        "    df.columns = ['Datetime', 'Headline']\n",
        "    return df.head(num_headlines)"
      ],
      "metadata": {
        "id": "uGHe5xGTIQAg"
      },
      "execution_count": 3,
      "outputs": []
    },
    {
      "cell_type": "code",
      "source": [
        "def sentiment_analysis(df):\n",
        "    df['Sentiment'] = df['Headline'].apply(lambda x: analyzer.polarity_scores(x)['compound'])\n",
        "    return df"
      ],
      "metadata": {
        "id": "eWnodrzKISRX"
      },
      "execution_count": 4,
      "outputs": []
    },
    {
      "cell_type": "code",
      "source": [
        "for ticker in tickers:\n",
        "    news_df = fetch_news(ticker)\n",
        "    news_df['Ticker'] = ticker\n",
        "    sentiment_df = sentiment_analysis(news_df)\n",
        "    print('\\nRecent News Headlines and Sentiment for {}: '.format(ticker))\n",
        "    print(sentiment_df)"
      ],
      "metadata": {
        "colab": {
          "base_uri": "https://localhost:8080/"
        },
        "id": "WEjGMr4pIUvw",
        "outputId": "baf89db4-8f8c-4e76-8c7a-79ab050fa5d3"
      },
      "execution_count": 5,
      "outputs": [
        {
          "output_type": "stream",
          "name": "stdout",
          "text": [
            "\n",
            "Recent News Headlines and Sentiment for AAPL: \n",
            "            Datetime                                           Headline  \\\n",
            "0  Feb-05-24 08:39PM  With new iPads around the corner, how will App...   \n",
            "1            08:29PM  Chinese suppliers make up majority of Vision P...   \n",
            "2            06:01PM  20 Best Permanent Residency Countries in the W...   \n",
            "\n",
            "  Ticker  Sentiment  \n",
            "0   AAPL     0.0000  \n",
            "1   AAPL     0.2500  \n",
            "2   AAPL     0.6369  \n",
            "\n",
            "Recent News Headlines and Sentiment for TSLA: \n",
            "            Datetime                                           Headline  \\\n",
            "0  Feb-05-24 11:03PM  Chewing Over the Latest Updates From Microsoft...   \n",
            "1            09:46PM  Tesla's board needs to keep Elon Musk's buy in...   \n",
            "2            09:45PM  Tesla's board needs to get rid of 3-4 members,...   \n",
            "\n",
            "  Ticker  Sentiment  \n",
            "0   TSLA        0.0  \n",
            "1   TSLA        0.0  \n",
            "2   TSLA        0.0  \n",
            "\n",
            "Recent News Headlines and Sentiment for AMZN: \n",
            "            Datetime                                           Headline  \\\n",
            "0  Feb-05-24 09:16PM  Amazon expands program to ship goods in origin...   \n",
            "1            05:39PM  UPDATE 2-When Amazon's new AI tool answers sho...   \n",
            "2            04:40PM  Big Tech Stocks Find Little Room for Error Aft...   \n",
            "\n",
            "  Ticker  Sentiment  \n",
            "0   AMZN     0.5267  \n",
            "1   AMZN     0.3818  \n",
            "2   AMZN    -0.3477  \n"
          ]
        }
      ]
    },
    {
      "cell_type": "code",
      "source": [
        "mean_sentiments = {ticker: sentiment_analysis(fetch_news(ticker))['Sentiment'].mean() for ticker in tickers}\n",
        "sentiments_df = pd.DataFrame(list(mean_sentiments.items()), columns=['Ticker', 'Mean Sentiment'])\n",
        "sentiments_df = sentiments_df.set_index('Ticker').sort_values('Mean Sentiment', ascending=False)\n",
        "print('\\nMean Sentiment Scores for Each Ticker:')\n",
        "print(sentiments_df)"
      ],
      "metadata": {
        "colab": {
          "base_uri": "https://localhost:8080/"
        },
        "id": "tb7nB_DuIXYU",
        "outputId": "c112ad92-962b-4abb-8df0-2a96c351c301"
      },
      "execution_count": 6,
      "outputs": [
        {
          "output_type": "stream",
          "name": "stdout",
          "text": [
            "\n",
            "Mean Sentiment Scores for Each Ticker:\n",
            "        Mean Sentiment\n",
            "Ticker                \n",
            "AAPL          0.295633\n",
            "AMZN          0.186933\n",
            "TSLA          0.000000\n"
          ]
        }
      ]
    }
  ]
}